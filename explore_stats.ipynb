{
 "cells": [
  {
   "cell_type": "code",
   "execution_count": 4,
   "metadata": {
    "collapsed": true
   },
   "outputs": [],
   "source": [
    "import pandas as pd\n",
    "\n",
    "auto_stats = pd.read_pickle('methods_data_b.pkl')\n",
    "classes_stats = pd.read_pickle('classes_data_b.pkl')"
   ]
  },
  {
   "cell_type": "code",
   "execution_count": 20,
   "outputs": [
    {
     "data": {
      "text/plain": "              package                                             folder  \\\n0         retrying.py    /home/quimey/.local/lib/python3.9/site-packages   \n0          mistune.py    /home/quimey/.local/lib/python3.9/site-packages   \n0      entrypoints.py    /home/quimey/.local/lib/python3.9/site-packages   \n0   jupyterlab_server  /home/quimey/.local/lib/python3.9/site-package...   \n0   jupyterlab_server  /home/quimey/.local/lib/python3.9/site-package...   \n..                ...                                                ...   \n0              stdlib  /home/quimey/Documents/repos/otros/cpython/Lib...   \n0              stdlib  /home/quimey/Documents/repos/otros/cpython/Lib...   \n0              stdlib  /home/quimey/Documents/repos/otros/cpython/Lib...   \n0              stdlib  /home/quimey/Documents/repos/otros/cpython/Lib...   \n0              stdlib  /home/quimey/Documents/repos/otros/cpython/Lib...   \n\n                     file          class_name    fun_name self_candidate  \\\n0             retrying.py          RetryError    __init__           self   \n0              mistune.py            Markdown    __init__           self   \n0          entrypoints.py        Distribution    __init__           self   \n0   workspaces_handler.py   WorkspacesHandler  initialize           self   \n0     licenses_handler.py     LicensesHandler  initialize           self   \n..                    ...                 ...         ...            ...   \n0              textpad.py             Textbox    __init__           self   \n0                 util.py          LazyLoader    __init__           self   \n0            _adapters.py  CompatibilityFiles    __init__           self   \n0               parser.py          HTMLParser    __init__           self   \n0           connection.py          Connection    __init__           self   \n\n   num_ordinary_params num_autoassign_params  \n0                    0                     1  \n0                    2                     1  \n0                    0                     2  \n0                    1                     1  \n0                    0                     1  \n..                 ...                   ...  \n0                    0                     2  \n0                    0                     1  \n0                    0                     1  \n0                    0                     1  \n0                    0                     2  \n\n[1099 rows x 8 columns]",
      "text/html": "<div>\n<style scoped>\n    .dataframe tbody tr th:only-of-type {\n        vertical-align: middle;\n    }\n\n    .dataframe tbody tr th {\n        vertical-align: top;\n    }\n\n    .dataframe thead th {\n        text-align: right;\n    }\n</style>\n<table border=\"1\" class=\"dataframe\">\n  <thead>\n    <tr style=\"text-align: right;\">\n      <th></th>\n      <th>package</th>\n      <th>folder</th>\n      <th>file</th>\n      <th>class_name</th>\n      <th>fun_name</th>\n      <th>self_candidate</th>\n      <th>num_ordinary_params</th>\n      <th>num_autoassign_params</th>\n    </tr>\n  </thead>\n  <tbody>\n    <tr>\n      <th>0</th>\n      <td>retrying.py</td>\n      <td>/home/quimey/.local/lib/python3.9/site-packages</td>\n      <td>retrying.py</td>\n      <td>RetryError</td>\n      <td>__init__</td>\n      <td>self</td>\n      <td>0</td>\n      <td>1</td>\n    </tr>\n    <tr>\n      <th>0</th>\n      <td>mistune.py</td>\n      <td>/home/quimey/.local/lib/python3.9/site-packages</td>\n      <td>mistune.py</td>\n      <td>Markdown</td>\n      <td>__init__</td>\n      <td>self</td>\n      <td>2</td>\n      <td>1</td>\n    </tr>\n    <tr>\n      <th>0</th>\n      <td>entrypoints.py</td>\n      <td>/home/quimey/.local/lib/python3.9/site-packages</td>\n      <td>entrypoints.py</td>\n      <td>Distribution</td>\n      <td>__init__</td>\n      <td>self</td>\n      <td>0</td>\n      <td>2</td>\n    </tr>\n    <tr>\n      <th>0</th>\n      <td>jupyterlab_server</td>\n      <td>/home/quimey/.local/lib/python3.9/site-package...</td>\n      <td>workspaces_handler.py</td>\n      <td>WorkspacesHandler</td>\n      <td>initialize</td>\n      <td>self</td>\n      <td>1</td>\n      <td>1</td>\n    </tr>\n    <tr>\n      <th>0</th>\n      <td>jupyterlab_server</td>\n      <td>/home/quimey/.local/lib/python3.9/site-package...</td>\n      <td>licenses_handler.py</td>\n      <td>LicensesHandler</td>\n      <td>initialize</td>\n      <td>self</td>\n      <td>0</td>\n      <td>1</td>\n    </tr>\n    <tr>\n      <th>...</th>\n      <td>...</td>\n      <td>...</td>\n      <td>...</td>\n      <td>...</td>\n      <td>...</td>\n      <td>...</td>\n      <td>...</td>\n      <td>...</td>\n    </tr>\n    <tr>\n      <th>0</th>\n      <td>stdlib</td>\n      <td>/home/quimey/Documents/repos/otros/cpython/Lib...</td>\n      <td>textpad.py</td>\n      <td>Textbox</td>\n      <td>__init__</td>\n      <td>self</td>\n      <td>0</td>\n      <td>2</td>\n    </tr>\n    <tr>\n      <th>0</th>\n      <td>stdlib</td>\n      <td>/home/quimey/Documents/repos/otros/cpython/Lib...</td>\n      <td>util.py</td>\n      <td>LazyLoader</td>\n      <td>__init__</td>\n      <td>self</td>\n      <td>0</td>\n      <td>1</td>\n    </tr>\n    <tr>\n      <th>0</th>\n      <td>stdlib</td>\n      <td>/home/quimey/Documents/repos/otros/cpython/Lib...</td>\n      <td>_adapters.py</td>\n      <td>CompatibilityFiles</td>\n      <td>__init__</td>\n      <td>self</td>\n      <td>0</td>\n      <td>1</td>\n    </tr>\n    <tr>\n      <th>0</th>\n      <td>stdlib</td>\n      <td>/home/quimey/Documents/repos/otros/cpython/Lib...</td>\n      <td>parser.py</td>\n      <td>HTMLParser</td>\n      <td>__init__</td>\n      <td>self</td>\n      <td>0</td>\n      <td>1</td>\n    </tr>\n    <tr>\n      <th>0</th>\n      <td>stdlib</td>\n      <td>/home/quimey/Documents/repos/otros/cpython/Lib...</td>\n      <td>connection.py</td>\n      <td>Connection</td>\n      <td>__init__</td>\n      <td>self</td>\n      <td>0</td>\n      <td>2</td>\n    </tr>\n  </tbody>\n</table>\n<p>1099 rows × 8 columns</p>\n</div>"
     },
     "execution_count": 20,
     "metadata": {},
     "output_type": "execute_result"
    }
   ],
   "source": [
    "auto_stats"
   ],
   "metadata": {
    "collapsed": false,
    "pycharm": {
     "name": "#%%\n"
    }
   }
  },
  {
   "cell_type": "code",
   "execution_count": 17,
   "outputs": [
    {
     "name": "stdout",
     "output_type": "stream",
     "text": [
      "Total de métodos con autoassign: 1099\n",
      "Número de métodos con autoassign que *no* autoasignan todos los parámetros:  528\n",
      "     un 48% de los métodos que hacen autoassign no asigna todos los parámetros\n"
     ]
    }
   ],
   "source": [
    "print(f'Total de métodos con autoassign: {len(auto_stats)}')\n",
    "print('Número de métodos con autoassign que *no* autoasignan todos los parámetros: ', len(auto_stats[(auto_stats['num_ordinary_params']>0)]))\n",
    "ratio =len(auto_stats[(auto_stats['num_ordinary_params']>0)])/len(auto_stats)\n",
    "print(f'     un {ratio*100:.0f}% de los métodos que hacen autoassign no asigna todos los parámetros')\n"
   ],
   "metadata": {
    "collapsed": false,
    "pycharm": {
     "name": "#%%\n"
    }
   }
  },
  {
   "cell_type": "code",
   "execution_count": 21,
   "outputs": [
    {
     "data": {
      "text/plain": "         package                                             folder  \\\n0    retrying.py    /home/quimey/.local/lib/python3.9/site-packages   \n1    retrying.py    /home/quimey/.local/lib/python3.9/site-packages   \n2    retrying.py    /home/quimey/.local/lib/python3.9/site-packages   \n0   decorator.py    /home/quimey/.local/lib/python3.9/site-packages   \n1   decorator.py    /home/quimey/.local/lib/python3.9/site-packages   \n..           ...                                                ...   \n0         stdlib  /home/quimey/Documents/repos/otros/cpython/Lib...   \n1         stdlib  /home/quimey/Documents/repos/otros/cpython/Lib...   \n0         stdlib  /home/quimey/Documents/repos/otros/cpython/Lib...   \n1         stdlib  /home/quimey/Documents/repos/otros/cpython/Lib...   \n2         stdlib  /home/quimey/Documents/repos/otros/cpython/Lib...   \n\n             file      class_name is_dataclass is_subclass has_init  \\\n0     retrying.py        Retrying        False        True     True   \n1     retrying.py         Attempt        False        True     True   \n2     retrying.py      RetryError        False        True     True   \n0    decorator.py   FunctionMaker        False        True     True   \n1    decorator.py  ContextManager        False        True     True   \n..            ...             ...          ...         ...      ...   \n0   connection.py        Listener        False        True     True   \n1   connection.py      Connection        False        True     True   \n0     __init__.py    DummyProcess        False        True     True   \n1     __init__.py       Namespace        False        True     True   \n2     __init__.py           Value        False        True     True   \n\n   num_methods num_autoassign_methods num_ordinary_methods  \n0          NaN                      0                 12.0  \n1          NaN                      1                  2.0  \n2          NaN                      1                  1.0  \n0          NaN                      0                  4.0  \n1          NaN                      0                  2.0  \n..         ...                    ...                  ...  \n0          NaN                      0                    6  \n1          NaN                      1                    4  \n0          NaN                      0                    3  \n1          NaN                      0                    2  \n2          NaN                      0                    4  \n\n[24021 rows x 10 columns]",
      "text/html": "<div>\n<style scoped>\n    .dataframe tbody tr th:only-of-type {\n        vertical-align: middle;\n    }\n\n    .dataframe tbody tr th {\n        vertical-align: top;\n    }\n\n    .dataframe thead th {\n        text-align: right;\n    }\n</style>\n<table border=\"1\" class=\"dataframe\">\n  <thead>\n    <tr style=\"text-align: right;\">\n      <th></th>\n      <th>package</th>\n      <th>folder</th>\n      <th>file</th>\n      <th>class_name</th>\n      <th>is_dataclass</th>\n      <th>is_subclass</th>\n      <th>has_init</th>\n      <th>num_methods</th>\n      <th>num_autoassign_methods</th>\n      <th>num_ordinary_methods</th>\n    </tr>\n  </thead>\n  <tbody>\n    <tr>\n      <th>0</th>\n      <td>retrying.py</td>\n      <td>/home/quimey/.local/lib/python3.9/site-packages</td>\n      <td>retrying.py</td>\n      <td>Retrying</td>\n      <td>False</td>\n      <td>True</td>\n      <td>True</td>\n      <td>NaN</td>\n      <td>0</td>\n      <td>12.0</td>\n    </tr>\n    <tr>\n      <th>1</th>\n      <td>retrying.py</td>\n      <td>/home/quimey/.local/lib/python3.9/site-packages</td>\n      <td>retrying.py</td>\n      <td>Attempt</td>\n      <td>False</td>\n      <td>True</td>\n      <td>True</td>\n      <td>NaN</td>\n      <td>1</td>\n      <td>2.0</td>\n    </tr>\n    <tr>\n      <th>2</th>\n      <td>retrying.py</td>\n      <td>/home/quimey/.local/lib/python3.9/site-packages</td>\n      <td>retrying.py</td>\n      <td>RetryError</td>\n      <td>False</td>\n      <td>True</td>\n      <td>True</td>\n      <td>NaN</td>\n      <td>1</td>\n      <td>1.0</td>\n    </tr>\n    <tr>\n      <th>0</th>\n      <td>decorator.py</td>\n      <td>/home/quimey/.local/lib/python3.9/site-packages</td>\n      <td>decorator.py</td>\n      <td>FunctionMaker</td>\n      <td>False</td>\n      <td>True</td>\n      <td>True</td>\n      <td>NaN</td>\n      <td>0</td>\n      <td>4.0</td>\n    </tr>\n    <tr>\n      <th>1</th>\n      <td>decorator.py</td>\n      <td>/home/quimey/.local/lib/python3.9/site-packages</td>\n      <td>decorator.py</td>\n      <td>ContextManager</td>\n      <td>False</td>\n      <td>True</td>\n      <td>True</td>\n      <td>NaN</td>\n      <td>0</td>\n      <td>2.0</td>\n    </tr>\n    <tr>\n      <th>...</th>\n      <td>...</td>\n      <td>...</td>\n      <td>...</td>\n      <td>...</td>\n      <td>...</td>\n      <td>...</td>\n      <td>...</td>\n      <td>...</td>\n      <td>...</td>\n      <td>...</td>\n    </tr>\n    <tr>\n      <th>0</th>\n      <td>stdlib</td>\n      <td>/home/quimey/Documents/repos/otros/cpython/Lib...</td>\n      <td>connection.py</td>\n      <td>Listener</td>\n      <td>False</td>\n      <td>True</td>\n      <td>True</td>\n      <td>NaN</td>\n      <td>0</td>\n      <td>6</td>\n    </tr>\n    <tr>\n      <th>1</th>\n      <td>stdlib</td>\n      <td>/home/quimey/Documents/repos/otros/cpython/Lib...</td>\n      <td>connection.py</td>\n      <td>Connection</td>\n      <td>False</td>\n      <td>True</td>\n      <td>True</td>\n      <td>NaN</td>\n      <td>1</td>\n      <td>4</td>\n    </tr>\n    <tr>\n      <th>0</th>\n      <td>stdlib</td>\n      <td>/home/quimey/Documents/repos/otros/cpython/Lib...</td>\n      <td>__init__.py</td>\n      <td>DummyProcess</td>\n      <td>False</td>\n      <td>True</td>\n      <td>True</td>\n      <td>NaN</td>\n      <td>0</td>\n      <td>3</td>\n    </tr>\n    <tr>\n      <th>1</th>\n      <td>stdlib</td>\n      <td>/home/quimey/Documents/repos/otros/cpython/Lib...</td>\n      <td>__init__.py</td>\n      <td>Namespace</td>\n      <td>False</td>\n      <td>True</td>\n      <td>True</td>\n      <td>NaN</td>\n      <td>0</td>\n      <td>2</td>\n    </tr>\n    <tr>\n      <th>2</th>\n      <td>stdlib</td>\n      <td>/home/quimey/Documents/repos/otros/cpython/Lib...</td>\n      <td>__init__.py</td>\n      <td>Value</td>\n      <td>False</td>\n      <td>True</td>\n      <td>True</td>\n      <td>NaN</td>\n      <td>0</td>\n      <td>4</td>\n    </tr>\n  </tbody>\n</table>\n<p>24021 rows × 10 columns</p>\n</div>"
     },
     "execution_count": 21,
     "metadata": {},
     "output_type": "execute_result"
    }
   ],
   "source": [
    "classes_stats"
   ],
   "metadata": {
    "collapsed": false,
    "pycharm": {
     "name": "#%%\n"
    }
   }
  },
  {
   "cell_type": "code",
   "execution_count": 16,
   "outputs": [
    {
     "name": "stdout",
     "output_type": "stream",
     "text": [
      "Total de clases analizadas: 24021\n",
      "Definen algún método:  19787\n",
      "Definen algún método con `auto assign`:  3448\n",
      "     un 17% de las clases que definen algún método tienen alguno con autoassign\n"
     ]
    }
   ],
   "source": [
    "print(f'Total de clases analizadas: {len(classes_stats)}')\n",
    "print('Definen algún método: ', len(classes_stats[(classes_stats['num_autoassign_methods']>0) | (classes_stats['num_ordinary_methods']>0)]))\n",
    "print('Definen algún método con `auto assign`: ', len(classes_stats[(classes_stats['num_autoassign_methods']>0)]))\n",
    "ratio =len(classes_stats[(classes_stats['num_autoassign_methods']>0)])/len(classes_stats[(classes_stats['num_autoassign_methods']>0) | (classes_stats['num_ordinary_methods']>0)])\n",
    "print(f'     un {ratio*100:.0f}% de las clases que definen algún método tienen alguno con autoassign')\n"
   ],
   "metadata": {
    "collapsed": false,
    "pycharm": {
     "name": "#%%\n"
    }
   }
  },
  {
   "cell_type": "code",
   "execution_count": 19,
   "outputs": [
    {
     "name": "stdout",
     "output_type": "stream",
     "text": [
      "Número de clases que son dataclass:  174\n",
      "Número de clases que no definen métodos y son subclases:  3980\n"
     ]
    }
   ],
   "source": [
    "print('Número de clases que son dataclass: ', len(classes_stats[classes_stats['is_dataclass']]))\n",
    "print('Número de clases que no definen métodos y son subclases: ', len(classes_stats[classes_stats['is_subclass'] & ((classes_stats['num_ordinary_methods']+ classes_stats['num_autoassign_methods'])==0)]))"
   ],
   "metadata": {
    "collapsed": false,
    "pycharm": {
     "name": "#%%\n"
    }
   }
  },
  {
   "cell_type": "code",
   "execution_count": 22,
   "outputs": [],
   "source": [
    "auto_stats.to_csv('methods_data_b.csv')\n",
    "classes_stats.to_csv('classes_data_b.csv')"
   ],
   "metadata": {
    "collapsed": false,
    "pycharm": {
     "name": "#%%\n"
    }
   }
  },
  {
   "cell_type": "code",
   "execution_count": null,
   "outputs": [],
   "source": [],
   "metadata": {
    "collapsed": false,
    "pycharm": {
     "name": "#%%\n"
    }
   }
  }
 ],
 "metadata": {
  "kernelspec": {
   "display_name": "Python 3",
   "language": "python",
   "name": "python3"
  },
  "language_info": {
   "codemirror_mode": {
    "name": "ipython",
    "version": 2
   },
   "file_extension": ".py",
   "mimetype": "text/x-python",
   "name": "python",
   "nbconvert_exporter": "python",
   "pygments_lexer": "ipython2",
   "version": "2.7.6"
  }
 },
 "nbformat": 4,
 "nbformat_minor": 0
}